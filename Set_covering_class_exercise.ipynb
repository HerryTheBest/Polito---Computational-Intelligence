{
 "cells": [
  {
   "cell_type": "code",
   "execution_count": 56,
   "metadata": {},
   "outputs": [],
   "source": [
    "from random import random\n",
    "from functools import reduce\n",
    "from collections import namedtuple\n",
    "from queue import PriorityQueue, SimpleQueue, LifoQueue\n",
    "\n",
    "import numpy as np"
   ]
  },
  {
   "cell_type": "code",
   "execution_count": 57,
   "metadata": {},
   "outputs": [],
   "source": [
    "PROBLEM_SIZE = 10\n",
    "NUM_SETS = 20\n",
    "SETS = tuple(np.array([random() < .3 for _ in range(PROBLEM_SIZE)]) for _ in range(NUM_SETS))\n",
    "State = namedtuple('State', ['taken', 'not_taken'])"
   ]
  },
  {
   "cell_type": "code",
   "execution_count": 58,
   "metadata": {},
   "outputs": [
    {
     "name": "stdout",
     "output_type": "stream",
     "text": [
      "Sets:\n",
      "0 1 1 1 0 0 1 0 1 0 \n",
      "0 1 0 0 1 0 0 0 0 1 \n",
      "0 0 0 1 0 1 1 0 0 0 \n",
      "0 0 1 1 1 0 0 0 1 1 \n",
      "0 1 0 0 0 0 1 1 1 1 \n",
      "1 0 0 0 0 0 0 0 1 1 \n",
      "1 0 0 1 0 1 1 0 1 0 \n",
      "1 0 0 1 0 0 0 0 0 0 \n",
      "0 1 1 1 0 0 0 0 1 0 \n",
      "1 1 0 0 0 0 0 1 0 0 \n",
      "0 1 0 1 0 0 0 0 0 0 \n",
      "0 0 0 0 0 1 0 0 0 0 \n",
      "0 1 1 1 0 0 0 0 0 0 \n",
      "0 1 0 0 0 0 0 0 0 0 \n",
      "1 0 0 0 0 0 0 0 0 1 \n",
      "1 0 1 0 0 0 1 0 0 0 \n",
      "1 0 0 0 0 1 0 1 0 0 \n",
      "0 1 0 1 0 0 1 0 0 1 \n",
      "0 1 0 0 1 0 0 1 0 0 \n",
      "0 1 1 0 0 1 1 0 0 1 \n"
     ]
    }
   ],
   "source": [
    "print(\"Sets:\")\n",
    "for element in SETS:\n",
    "    for value in element:\n",
    "        if value:\n",
    "            print('1 ', end='')\n",
    "        else:\n",
    "            print('0 ', end='')\n",
    "    print()\n",
    "max_solution = [0] * PROBLEM_SIZE\n",
    "for i in range(PROBLEM_SIZE):\n",
    "    for element in SETS:\n",
    "        if element[i]:\n",
    "            max_solution[i] += element[i]\n"
   ]
  },
  {
   "cell_type": "code",
   "execution_count": 59,
   "metadata": {},
   "outputs": [
    {
     "name": "stdout",
     "output_type": "stream",
     "text": [
      "Problem solvable\n"
     ]
    }
   ],
   "source": [
    "if 0 in max_solution:\n",
    "    print('Problem not solvable')\n",
    "else:\n",
    "    print('Problem solvable')\n",
    "# print(max_solution)"
   ]
  },
  {
   "cell_type": "code",
   "execution_count": 60,
   "metadata": {},
   "outputs": [],
   "source": [
    "def goal_check(state):\n",
    "    return np.all(reduce(np.logical_or, [SETS[i] for i in state.taken], np.array([False for _ in range(PROBLEM_SIZE)])))"
   ]
  },
  {
   "cell_type": "code",
   "execution_count": 61,
   "metadata": {},
   "outputs": [
    {
     "name": "stdout",
     "output_type": "stream",
     "text": [
      "Solved in 12 steps\n"
     ]
    }
   ],
   "source": [
    "frontier = LifoQueue()\n",
    "frontier.put(State(set(), set(range(NUM_SETS))))\n",
    "\n",
    "counter = 0\n",
    "current_state = frontier.get()\n",
    "while not goal_check(current_state):\n",
    "    counter += 1\n",
    "    for action in current_state[1]:\n",
    "        new_state = State(current_state.taken ^ {action}, current_state.not_taken ^ {action})\n",
    "        frontier.put(new_state)\n",
    "    current_state = frontier.get()\n",
    "\n",
    "print(f\"Solved in {counter:,} steps\")"
   ]
  },
  {
   "cell_type": "code",
   "execution_count": 62,
   "metadata": {},
   "outputs": [
    {
     "name": "stdout",
     "output_type": "stream",
     "text": [
      "State(taken={8, 9, 10, 11, 12, 13, 14, 15, 16, 17, 18, 19}, not_taken={0, 1, 2, 3, 4, 5, 6, 7})\n",
      "chosen solution: [4 8 4 4 1 3 3 3 1 3]\n"
     ]
    }
   ],
   "source": [
    "print(current_state)\n",
    "chosen_solution = [0] * PROBLEM_SIZE\n",
    "for s_taken in current_state.taken:\n",
    "    chosen_solution += SETS[s_taken]\n",
    "print(f'chosen solution: {chosen_solution}')"
   ]
  },
  {
   "cell_type": "code",
   "execution_count": 63,
   "metadata": {},
   "outputs": [
    {
     "data": {
      "text/plain": [
       "True"
      ]
     },
     "execution_count": 63,
     "metadata": {},
     "output_type": "execute_result"
    }
   ],
   "source": [
    "goal_check(current_state)"
   ]
  }
 ],
 "metadata": {
  "kernelspec": {
   "display_name": "Code",
   "language": "python",
   "name": "python3"
  },
  "language_info": {
   "codemirror_mode": {
    "name": "ipython",
    "version": 3
   },
   "file_extension": ".py",
   "mimetype": "text/x-python",
   "name": "python",
   "nbconvert_exporter": "python",
   "pygments_lexer": "ipython3",
   "version": "3.10.7"
  }
 },
 "nbformat": 4,
 "nbformat_minor": 2
}
