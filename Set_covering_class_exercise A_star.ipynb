{
 "cells": [
  {
   "cell_type": "markdown",
   "metadata": {},
   "source": [
    "Made by \n",
    "    Luca Sturaro (Polito s320062)\n",
    "In collaboration with \n",
    "    Gabriele Tomatis (Polito, s3xxxxx)"
   ]
  },
  {
   "cell_type": "code",
   "execution_count": 43,
   "metadata": {},
   "outputs": [],
   "source": [
    "from random import random\n",
    "from functools import reduce\n",
    "from collections import namedtuple\n",
    "from queue import PriorityQueue, SimpleQueue, LifoQueue\n",
    "\n",
    "import numpy as np"
   ]
  },
  {
   "cell_type": "code",
   "execution_count": 44,
   "metadata": {},
   "outputs": [],
   "source": [
    "PROBLEM_SIZE = 500\n",
    "NUM_SETS = 1000\n",
    "SETS = tuple(np.array([random() < .3 for _ in range(PROBLEM_SIZE)]) for _ in range(NUM_SETS))\n",
    "State = namedtuple('State', ['taken', 'not_taken'])"
   ]
  },
  {
   "cell_type": "code",
   "execution_count": 45,
   "metadata": {},
   "outputs": [
    {
     "name": "stdout",
     "output_type": "stream",
     "text": [
      "Problem solvable\n"
     ]
    }
   ],
   "source": [
    "if PROBLEM_SIZE <= 100:\n",
    "    print(\"Sets:\")\n",
    "    for num, element in enumerate(SETS):\n",
    "        print(f'{num}:\\t', end='')\n",
    "        for value in element:\n",
    "            if value:\n",
    "                print('1 ', end='')\n",
    "            else:\n",
    "                print('0 ', end='')\n",
    "        print()\n",
    "\n",
    "max_solution = [0] * PROBLEM_SIZE\n",
    "for i in range(PROBLEM_SIZE):\n",
    "    for element in SETS:\n",
    "        if element[i]:\n",
    "            max_solution[i] += element[i]\n",
    "\n",
    "if 0 in max_solution:\n",
    "    print('Problem not solvable')\n",
    "    raise Exception('Problem is not solvable')\n",
    "else:\n",
    "    print('Problem solvable')\n",
    "# print(max_solution)"
   ]
  },
  {
   "cell_type": "code",
   "execution_count": 46,
   "metadata": {},
   "outputs": [],
   "source": [
    "def goal_check(state):\n",
    "    return np.all(reduce(\n",
    "        np.logical_or,\n",
    "        [SETS[i] for i in state.taken],\n",
    "        np.array([False for _ in range(PROBLEM_SIZE)]),\n",
    "    ))\n",
    "\n",
    "\n",
    "def distance(state):\n",
    "    return PROBLEM_SIZE - sum(\n",
    "        reduce(\n",
    "            np.logical_or,\n",
    "            [SETS[i] for i in state.taken],\n",
    "            np.array([False for _ in range(PROBLEM_SIZE)]),\n",
    "        ))\n",
    "\n",
    "def weight(state):\n",
    "    # f = g + h\n",
    "    g = len(state.taken)\n",
    "    progress = [False] * PROBLEM_SIZE\n",
    "    for set in state.taken:\n",
    "        list_set = SETS[set].tolist()\n",
    "        for i in range(PROBLEM_SIZE):\n",
    "            progress[i] = progress[i] or list_set[i]\n",
    "    h = PROBLEM_SIZE - sum(progress)\n",
    "    return g + h"
   ]
  },
  {
   "cell_type": "code",
   "execution_count": 47,
   "metadata": {},
   "outputs": [
    {
     "name": "stdout",
     "output_type": "stream",
     "text": [
      "Solved in 8 steps (8 tiles)\n",
      "Solution:     Taken: {36, 485, 200, 329, 687, 213, 283, 413}\n"
     ]
    }
   ],
   "source": [
    "frontier = PriorityQueue()\n",
    "state = State(set(), set(range(NUM_SETS)))\n",
    "frontier.put((0, state))\n",
    "\n",
    "counter = 0\n",
    "_, current_state = frontier.get()\n",
    "while not goal_check(current_state):\n",
    "    counter += 1\n",
    "    for action in current_state[1]:\n",
    "        new_state = State(\n",
    "            current_state.taken ^ {action},\n",
    "            current_state.not_taken ^ {action},\n",
    "        )\n",
    "        frontier.put((weight(new_state), new_state))\n",
    "    _, current_state = frontier.get()\n",
    "\n",
    "print(f'Solved in {counter:,} steps ({len(current_state.taken)} tiles)')\n",
    "print(f'Solution:     Taken: {current_state.taken}')"
   ]
  },
  {
   "cell_type": "code",
   "execution_count": 48,
   "metadata": {},
   "outputs": [],
   "source": [
    "if PROBLEM_SIZE <= 100:\n",
    "    print('The following tyles were taken: ')\n",
    "    for tile in current_state.taken:\n",
    "        print(f'{tile}:\\t', end='')\n",
    "        for value in SETS[tile]:\n",
    "            if value:\n",
    "                print('1 ', end='')\n",
    "            else:\n",
    "                print('0 ', end='')\n",
    "        print()"
   ]
  },
  {
   "cell_type": "code",
   "execution_count": 49,
   "metadata": {},
   "outputs": [
    {
     "data": {
      "text/plain": [
       "True"
      ]
     },
     "execution_count": 49,
     "metadata": {},
     "output_type": "execute_result"
    }
   ],
   "source": [
    "goal_check(current_state)"
   ]
  }
 ],
 "metadata": {
  "kernelspec": {
   "display_name": "Code",
   "language": "python",
   "name": "python3"
  },
  "language_info": {
   "codemirror_mode": {
    "name": "ipython",
    "version": 3
   },
   "file_extension": ".py",
   "mimetype": "text/x-python",
   "name": "python",
   "nbconvert_exporter": "python",
   "pygments_lexer": "ipython3",
   "version": "3.10.7"
  }
 },
 "nbformat": 4,
 "nbformat_minor": 2
}
