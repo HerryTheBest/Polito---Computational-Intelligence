{
 "cells": [
  {
   "cell_type": "markdown",
   "metadata": {},
   "source": [
    "Made by \n",
    "    Luca Sturaro (Polito s320062)\n",
    "In collaboration with \n",
    "    Gabriele Tomatis (Polito, s313848)"
   ]
  },
  {
   "cell_type": "code",
   "execution_count": 15,
   "metadata": {},
   "outputs": [],
   "source": [
    "from random import random\n",
    "from functools import reduce\n",
    "from collections import namedtuple\n",
    "from queue import PriorityQueue, SimpleQueue, LifoQueue\n",
    "\n",
    "import numpy as np"
   ]
  },
  {
   "cell_type": "code",
   "execution_count": 16,
   "metadata": {},
   "outputs": [],
   "source": [
    "PROBLEM_SIZE = 1000\n",
    "NUM_SETS = 1000\n",
    "PROBABILITY = 0.3\n",
    "SETS = tuple(np.array([random() < PROBABILITY for _ in range(PROBLEM_SIZE)]) for _ in range(NUM_SETS))\n",
    "State = namedtuple('State', ['taken', 'not_taken'])"
   ]
  },
  {
   "cell_type": "code",
   "execution_count": 17,
   "metadata": {},
   "outputs": [
    {
     "name": "stdout",
     "output_type": "stream",
     "text": [
      "Problem solvable\n"
     ]
    }
   ],
   "source": [
    "if PROBLEM_SIZE <= 100: # if the problem size is more than 100, visualization gets messy\n",
    "    print(\"Sets:\")\n",
    "    for num, element in enumerate(SETS):\n",
    "        print(f'{num}:\\t', end='')\n",
    "        for value in element:\n",
    "            if value:\n",
    "                print('1 ', end='')\n",
    "            else:\n",
    "                print('0 ', end='')\n",
    "        print()\n",
    "\n",
    "max_solution = [0] * PROBLEM_SIZE\n",
    "for i in range(PROBLEM_SIZE):\n",
    "    for element in SETS:\n",
    "        if element[i]:\n",
    "            max_solution[i] += element[i]\n",
    "\n",
    "if 0 in max_solution:\n",
    "    print('Problem not solvable')\n",
    "    raise Exception('Problem is not solvable')\n",
    "else:\n",
    "    print('Problem solvable')\n",
    "# print(max_solution)"
   ]
  },
  {
   "cell_type": "code",
   "execution_count": 18,
   "metadata": {},
   "outputs": [],
   "source": [
    "def goal_check(state):\n",
    "    return np.all(reduce(\n",
    "        np.logical_or,\n",
    "        [SETS[i] for i in state.taken],\n",
    "        np.array([False for _ in range(PROBLEM_SIZE)]),\n",
    "    ))\n",
    "\n",
    "\n",
    "# no longer used\n",
    "def distance(state):\n",
    "    return PROBLEM_SIZE - sum(\n",
    "        reduce(\n",
    "            np.logical_or,\n",
    "            [SETS[i] for i in state.taken],\n",
    "            np.array([False for _ in range(PROBLEM_SIZE)]),\n",
    "        ))\n",
    "\n",
    "def weight(state):\n",
    "    # g is the cost of getting to the current node\n",
    "    g = len(state.taken)\n",
    "    # h is the heuristic cost of getting to the goal from the current node\n",
    "    progress = [False] * PROBLEM_SIZE\n",
    "    for set in state.taken:\n",
    "        list_set = SETS[set].tolist()\n",
    "        for i in range(PROBLEM_SIZE):\n",
    "            progress[i] = progress[i] or list_set[i]\n",
    "    # h = PROBLEM_SIZE - sum(progress)                      # basic pessimistic heuristic function (works best)\n",
    "    # h = h_optimistic_1(PROBLEM_SIZE - sum(progress))      # first optimistic heuristic function\n",
    "    h = h_optimistic_2(PROBLEM_SIZE - sum(progress))        # second optimistic heuristic function\n",
    "    return g + h\n",
    "\n",
    "\n",
    "# very computationally heavy, not sure why\n",
    "def h_optimistic_1(n_missing_elements):\n",
    "    optimistic_cost_reduction = 0\n",
    "    # cost is calculated as the sum of the number of sets that can be taken to complete the problem, weighted by the likelyhood that taking that mnany would be enough\n",
    "    # the probability is not the actual mathematical probability because I don't know hot to implement that function in a generalized manner (mathematically speaking)\n",
    "    for i in range(n_missing_elements):\n",
    "        optimistic_cost_reduction += i * (PROBABILITY ** (n_missing_elements - i))\n",
    "\n",
    "    # failsafe, if the cost comes up too high, we cap it at the max (else A* breaks down)\n",
    "    if optimistic_cost_reduction >= n_missing_elements:\n",
    "        optimistic_cost_reduction = n_missing_elements\n",
    "    return optimistic_cost_reduction\n",
    "\n",
    "\n",
    "def h_optimistic_2(n_missing_elements):\n",
    "    # cost is calculated as the maximum cost (the number of sets) minus the sum of the number of sets we could save (meaning that each set covers more than one point) \n",
    "    # weighted by the chanche that we could actually save that many\n",
    "    # the probability is not the actual mathematical probability because I don't know hot to implement that function in a generalized manner (mathematically speaking)\n",
    "    optimistic_cost_reduction = n_missing_elements\n",
    "    for i in range(n_missing_elements):\n",
    "        optimistic_cost_reduction -= i * (PROBABILITY ** i)\n",
    "    \n",
    "    return optimistic_cost_reduction"
   ]
  },
  {
   "cell_type": "code",
   "execution_count": 19,
   "metadata": {},
   "outputs": [
    {
     "name": "stdout",
     "output_type": "stream",
     "text": [
      "Solved in 10 steps (10 tiles)\n",
      "Solution:     Taken: {1, 452, 393, 442, 338, 276, 26, 443, 28, 959}\n"
     ]
    }
   ],
   "source": [
    "frontier = PriorityQueue()\n",
    "state = State(set(), set(range(NUM_SETS)))\n",
    "frontier.put((0, state))\n",
    "\n",
    "counter = 0\n",
    "_, current_state = frontier.get()\n",
    "while not goal_check(current_state):\n",
    "    counter += 1\n",
    "    for action in current_state[1]:\n",
    "        new_state = State(\n",
    "            current_state.taken ^ {action},\n",
    "            current_state.not_taken ^ {action},\n",
    "        )\n",
    "        frontier.put((weight(new_state), new_state))\n",
    "    _, current_state = frontier.get()\n",
    "\n",
    "print(f'Solved in {counter:,} steps ({len(current_state.taken)} tiles)')\n",
    "print(f'Solution:     Taken: {current_state.taken}')\n",
    "\n",
    "# observation: \n",
    "# with a 30% chance to have each position as true in each element, most set coverings tested here with a fixed number of sets of 1000\n",
    "# are gonna be completed with 7 to 11 tiles, as that corresponds to a chanche to have each element covered of 91.7% to 98%\n",
    "# \n",
    "# the takeaway is that the probability increase given by the number of tiles taken is far higher than the probability decrease given by the size of each tile"
   ]
  },
  {
   "cell_type": "code",
   "execution_count": 20,
   "metadata": {},
   "outputs": [],
   "source": [
    "if PROBLEM_SIZE <= 100: # if the problem size is more than 100, visualization gets messy\n",
    "    print('The following tyles were taken: ')\n",
    "    for tile in current_state.taken:\n",
    "        print(f'{tile}:\\t', end='')\n",
    "        for value in SETS[tile]:\n",
    "            if value:\n",
    "                print('1 ', end='')\n",
    "            else:\n",
    "                print('0 ', end='')\n",
    "        print()"
   ]
  },
  {
   "cell_type": "code",
   "execution_count": 21,
   "metadata": {},
   "outputs": [
    {
     "data": {
      "text/plain": [
       "True"
      ]
     },
     "execution_count": 21,
     "metadata": {},
     "output_type": "execute_result"
    }
   ],
   "source": [
    "goal_check(current_state)"
   ]
  }
 ],
 "metadata": {
  "kernelspec": {
   "display_name": "Code",
   "language": "python",
   "name": "python3"
  },
  "language_info": {
   "codemirror_mode": {
    "name": "ipython",
    "version": 3
   },
   "file_extension": ".py",
   "mimetype": "text/x-python",
   "name": "python",
   "nbconvert_exporter": "python",
   "pygments_lexer": "ipython3",
   "version": "3.10.7"
  }
 },
 "nbformat": 4,
 "nbformat_minor": 2
}
