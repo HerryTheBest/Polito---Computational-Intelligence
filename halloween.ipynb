{
 "cells": [
  {
   "cell_type": "code",
   "execution_count": 30,
   "metadata": {},
   "outputs": [],
   "source": [
    "from itertools import product\n",
    "from random import random, randint, shuffle, seed\n",
    "import numpy as np\n",
    "from scipy import sparse\n",
    "from functools import reduce\n",
    "from copy import copy"
   ]
  },
  {
   "cell_type": "code",
   "execution_count": 31,
   "metadata": {},
   "outputs": [],
   "source": [
    "def make_set_covering_problem(num_points, num_sets, density):\n",
    "    \"\"\"Returns a sparse array where rows are sets and columns are the covered items\"\"\"\n",
    "    seed(num_points*2654435761+num_sets+density)\n",
    "    sets = sparse.lil_array((num_sets, num_points), dtype=bool)\n",
    "    for s, p in product(range(num_sets), range(num_points)):\n",
    "        if random() < density:\n",
    "            sets[s, p] = True\n",
    "    for p in range(num_points):\n",
    "        sets[randint(0, num_sets-1), p] = True\n",
    "    return sets"
   ]
  },
  {
   "cell_type": "markdown",
   "metadata": {},
   "source": [
    "### Halloween Challenge\n",
    "Find the best solution with the fewest calls to the fitness functions for:\n",
    "\n",
    "- num_points = [100, 1_000, 5_000]\n",
    "- num_sets = num_points\n",
    "- density = [.3, .7]"
   ]
  },
  {
   "cell_type": "code",
   "execution_count": 32,
   "metadata": {},
   "outputs": [],
   "source": [
    "N_POINTS = 1000\n",
    "N_SETS = N_POINTS\n",
    "DENSITY = .3\n",
    "x = make_set_covering_problem(N_POINTS, N_SETS, DENSITY)\n",
    "SETS = x.toarray()\n",
    "# print(SETS)\n",
    "# print(\"Element at row=42 and column=42:\", x[42, 42])"
   ]
  },
  {
   "cell_type": "code",
   "execution_count": 33,
   "metadata": {},
   "outputs": [],
   "source": [
    "def goal_check(state):\n",
    "    progress = [False for _ in range(N_POINTS)]\n",
    "    for i, set in enumerate(state):\n",
    "        if set:\n",
    "            list_set = SETS[i].tolist()\n",
    "            for i in range(N_POINTS):\n",
    "                progress[i] = progress[i] or list_set[i]\n",
    "    \n",
    "    for element in progress:\n",
    "        if not element:\n",
    "            return False\n",
    "    return True"
   ]
  },
  {
   "cell_type": "code",
   "execution_count": 34,
   "metadata": {},
   "outputs": [],
   "source": [
    "# returns true if the set at the given index cover at least a percent of elements equal to DENSITY\n",
    "def is_good(index):\n",
    "    return sum(SETS[index]) >= DENSITY * N_POINTS\n",
    "\n",
    "\n",
    "# returns true if the set at the given index is worst than the top {treshold}% of taken sets\n",
    "def could_be_better(state, index, treshold=0.5):\n",
    "    better_count = 0\n",
    "    for i, set in enumerate(state):\n",
    "        if set and sum(SETS[i]) > sum(SETS[index]):\n",
    "            better_count += 1\n",
    "    if (better_count / N_POINTS) >= treshold:\n",
    "        return True\n",
    "    else:\n",
    "        return False\n",
    "        \n",
    "\n",
    "# removes redundant sets, starting with the ones with less covering\n",
    "def prune(state):\n",
    "    sets_used = []\n",
    "    for i, taken in enumerate(state):\n",
    "        if taken:\n",
    "            sets_used.append([SETS[i], i, sum(SETS[i])])\n",
    "    sets_used.sort(key=lambda x: x[1])\n",
    "\n",
    "    # check if each set is redundant (stop at the first found)\n",
    "    for taken_set in sets_used:\n",
    "        redundant = True\n",
    "        for i, val in enumerate(taken_set[0]):\n",
    "            if val:\n",
    "                redundancy = 0\n",
    "                for set in sets_used:\n",
    "                    redundancy += set[0][i]\n",
    "                if redundancy < 2:\n",
    "                    redundant = False\n",
    "                    break\n",
    "        if redundant:\n",
    "            return set[1]\n",
    "    return False\n"
   ]
  },
  {
   "cell_type": "code",
   "execution_count": 35,
   "metadata": {},
   "outputs": [],
   "source": [
    "def fitness(state):\n",
    "    cost = sum(state)\n",
    "    valid = np.sum(\n",
    "        reduce(\n",
    "            np.logical_or,\n",
    "            [SETS[i] for i, t in enumerate(state) if t],\n",
    "            np.array([False for _ in range(N_POINTS)]),\n",
    "        )\n",
    "    )\n",
    "    return valid, -cost"
   ]
  },
  {
   "cell_type": "code",
   "execution_count": 36,
   "metadata": {},
   "outputs": [],
   "source": [
    "# the default tweak function, randomly chooses one element to add or remove\n",
    "def random_tweak(state):\n",
    "    new_state = copy(state)\n",
    "    index = randint(0, N_POINTS - 1)\n",
    "    new_state[index] = not new_state[index]\n",
    "    return new_state\n",
    "\n",
    "\n",
    "# always add a new set, then prunes the state removing redundant sets\n",
    "def tweak_1(state):\n",
    "    new_state = copy(state)\n",
    "    \n",
    "    # loops until it picks a non taken set (choosing randomly)\n",
    "    while 1:\n",
    "        index = randint(0, N_POINTS - 1)\n",
    "        if not new_state[index]:\n",
    "            break\n",
    "    new_state[index] = True\n",
    "\n",
    "    if(not goal_check(new_state)):\n",
    "        return new_state\n",
    "\n",
    "    # eliminate redundant sets until there are no more\n",
    "    while 1:\n",
    "        to_prune = prune(new_state)\n",
    "        if not to_prune:\n",
    "            return new_state\n",
    "        new_state[to_prune] = False\n"
   ]
  },
  {
   "cell_type": "code",
   "execution_count": 37,
   "metadata": {},
   "outputs": [
    {
     "name": "stdout",
     "output_type": "stream",
     "text": [
      "Default random tweak function, used for benchmarking\n",
      "fitness: 0\t sets taken: 0\t steps: 0\n",
      "fitness: 321\t sets taken: 1\t steps: 1\n",
      "fitness: 511\t sets taken: 2\t steps: 2\n",
      "fitness: 658\t sets taken: 3\t steps: 3\n",
      "fitness: 755\t sets taken: 4\t steps: 4\n",
      "fitness: 808\t sets taken: 5\t steps: 5\n",
      "fitness: 874\t sets taken: 6\t steps: 6\n",
      "fitness: 909\t sets taken: 7\t steps: 7\n",
      "fitness: 936\t sets taken: 8\t steps: 8\n",
      "fitness: 955\t sets taken: 9\t steps: 9\n",
      "fitness: 974\t sets taken: 10\t steps: 10\n",
      "fitness: 986\t sets taken: 11\t steps: 11\n",
      "fitness: 987\t sets taken: 12\t steps: 12\n",
      "fitness: 990\t sets taken: 13\t steps: 13\n",
      "fitness: 993\t sets taken: 14\t steps: 14\n",
      "fitness: 995\t sets taken: 15\t steps: 15\n",
      "fitness: 996\t sets taken: 16\t steps: 17\n",
      "fitness: 998\t sets taken: 17\t steps: 18\n",
      "fitness: 999\t sets taken: 18\t steps: 20\n",
      "fitness: 1000\t sets taken: 19\t steps: 22\n",
      "fitness: 1000\t sets taken: 18\t steps: 92\n",
      "fitness: 1000\t sets taken: 17\t steps: 96\n",
      "fitness: 1000\t sets taken: 16\t steps: 97\n",
      "fitness: 1000\t sets taken: 15\t steps: 823\n",
      "\n",
      "Fitness calls: 10000\n",
      "Updates: 23\n"
     ]
    }
   ],
   "source": [
    "print('Default random tweak function, used for benchmarking')\n",
    "current_state = [False for _ in range(N_POINTS)]\n",
    "print(f'fitness: {fitness(current_state)[0]}\\t sets taken: {-fitness(current_state)[1]}\\t steps: 0')\n",
    "\n",
    "fitness_calls = 0\n",
    "updates = 0\n",
    "\n",
    "for step in range(10_000):\n",
    "    new_state = random_tweak(current_state)\n",
    "    fitness_calls += 1\n",
    "    if fitness(new_state) >= fitness(current_state):\n",
    "        updates += 1\n",
    "        current_state = new_state\n",
    "        print(f'fitness: {fitness(current_state)[0]}\\t sets taken: {-fitness(current_state)[1]}\\t steps: {step + 1}')\n",
    "\n",
    "print()\n",
    "print(f'Fitness calls: {fitness_calls}')\n",
    "print(f'Updates: {updates}')"
   ]
  },
  {
   "cell_type": "code",
   "execution_count": 39,
   "metadata": {},
   "outputs": [
    {
     "name": "stdout",
     "output_type": "stream",
     "text": [
      "My function\n",
      "fitness: 0\t sets taken: 0\t steps: 0\n",
      "fitness: 286\t sets taken: 1\t steps: 1\n",
      "fitness: 491\t sets taken: 2\t steps: 2\n",
      "fitness: 630\t sets taken: 3\t steps: 3\n",
      "fitness: 742\t sets taken: 4\t steps: 4\n",
      "fitness: 816\t sets taken: 5\t steps: 5\n",
      "fitness: 859\t sets taken: 6\t steps: 6\n",
      "fitness: 894\t sets taken: 7\t steps: 7\n",
      "fitness: 931\t sets taken: 8\t steps: 8\n",
      "fitness: 951\t sets taken: 9\t steps: 9\n",
      "fitness: 967\t sets taken: 10\t steps: 10\n",
      "fitness: 980\t sets taken: 11\t steps: 11\n",
      "fitness: 989\t sets taken: 12\t steps: 12\n",
      "fitness: 991\t sets taken: 13\t steps: 13\n",
      "fitness: 994\t sets taken: 14\t steps: 14\n",
      "fitness: 997\t sets taken: 15\t steps: 15\n",
      "fitness: 998\t sets taken: 16\t steps: 18\n",
      "fitness: 999\t sets taken: 17\t steps: 24\n"
     ]
    },
    {
     "ename": "KeyboardInterrupt",
     "evalue": "",
     "output_type": "error",
     "traceback": [
      "\u001b[1;31m---------------------------------------------------------------------------\u001b[0m",
      "\u001b[1;31mKeyboardInterrupt\u001b[0m                         Traceback (most recent call last)",
      "\u001b[1;32mc:\\Users\\drluc\\OneDrive\\Desktop\\Polito\\2024 - S1\\Computational intelligence\\CI_code\\halloween.ipynb Cell 10\u001b[0m line \u001b[0;36m1\n\u001b[0;32m      <a href='vscode-notebook-cell:/c%3A/Users/drluc/OneDrive/Desktop/Polito/2024%20-%20S1/Computational%20intelligence/CI_code/halloween.ipynb#X12sZmlsZQ%3D%3D?line=5'>6</a>\u001b[0m updates \u001b[39m=\u001b[39m \u001b[39m0\u001b[39m\n\u001b[0;32m      <a href='vscode-notebook-cell:/c%3A/Users/drluc/OneDrive/Desktop/Polito/2024%20-%20S1/Computational%20intelligence/CI_code/halloween.ipynb#X12sZmlsZQ%3D%3D?line=7'>8</a>\u001b[0m \u001b[39mfor\u001b[39;00m step \u001b[39min\u001b[39;00m \u001b[39mrange\u001b[39m(\u001b[39m10_000\u001b[39m):\n\u001b[0;32m      <a href='vscode-notebook-cell:/c%3A/Users/drluc/OneDrive/Desktop/Polito/2024%20-%20S1/Computational%20intelligence/CI_code/halloween.ipynb#X12sZmlsZQ%3D%3D?line=8'>9</a>\u001b[0m     \u001b[39m#if goal_check(current_state):\u001b[39;00m\n\u001b[0;32m     <a href='vscode-notebook-cell:/c%3A/Users/drluc/OneDrive/Desktop/Polito/2024%20-%20S1/Computational%20intelligence/CI_code/halloween.ipynb#X12sZmlsZQ%3D%3D?line=9'>10</a>\u001b[0m     \u001b[39m#    break\u001b[39;00m\n\u001b[1;32m---> <a href='vscode-notebook-cell:/c%3A/Users/drluc/OneDrive/Desktop/Polito/2024%20-%20S1/Computational%20intelligence/CI_code/halloween.ipynb#X12sZmlsZQ%3D%3D?line=10'>11</a>\u001b[0m     new_state \u001b[39m=\u001b[39m tweak_1(current_state)\n\u001b[0;32m     <a href='vscode-notebook-cell:/c%3A/Users/drluc/OneDrive/Desktop/Polito/2024%20-%20S1/Computational%20intelligence/CI_code/halloween.ipynb#X12sZmlsZQ%3D%3D?line=11'>12</a>\u001b[0m     fitness_calls \u001b[39m+\u001b[39m\u001b[39m=\u001b[39m \u001b[39m1\u001b[39m\n\u001b[0;32m     <a href='vscode-notebook-cell:/c%3A/Users/drluc/OneDrive/Desktop/Polito/2024%20-%20S1/Computational%20intelligence/CI_code/halloween.ipynb#X12sZmlsZQ%3D%3D?line=12'>13</a>\u001b[0m     \u001b[39mif\u001b[39;00m fitness(new_state) \u001b[39m>\u001b[39m fitness(current_state):\n",
      "\u001b[1;32mc:\\Users\\drluc\\OneDrive\\Desktop\\Polito\\2024 - S1\\Computational intelligence\\CI_code\\halloween.ipynb Cell 10\u001b[0m line \u001b[0;36m2\n\u001b[0;32m     <a href='vscode-notebook-cell:/c%3A/Users/drluc/OneDrive/Desktop/Polito/2024%20-%20S1/Computational%20intelligence/CI_code/halloween.ipynb#X12sZmlsZQ%3D%3D?line=20'>21</a>\u001b[0m     \u001b[39mreturn\u001b[39;00m new_state\n\u001b[0;32m     <a href='vscode-notebook-cell:/c%3A/Users/drluc/OneDrive/Desktop/Polito/2024%20-%20S1/Computational%20intelligence/CI_code/halloween.ipynb#X12sZmlsZQ%3D%3D?line=22'>23</a>\u001b[0m \u001b[39m# eliminate redundant sets until there are no more\u001b[39;00m\n\u001b[1;32m---> <a href='vscode-notebook-cell:/c%3A/Users/drluc/OneDrive/Desktop/Polito/2024%20-%20S1/Computational%20intelligence/CI_code/halloween.ipynb#X12sZmlsZQ%3D%3D?line=23'>24</a>\u001b[0m \u001b[39mwhile\u001b[39;00m \u001b[39m1\u001b[39m:\n\u001b[0;32m     <a href='vscode-notebook-cell:/c%3A/Users/drluc/OneDrive/Desktop/Polito/2024%20-%20S1/Computational%20intelligence/CI_code/halloween.ipynb#X12sZmlsZQ%3D%3D?line=24'>25</a>\u001b[0m     to_prune \u001b[39m=\u001b[39m prune(new_state)\n\u001b[0;32m     <a href='vscode-notebook-cell:/c%3A/Users/drluc/OneDrive/Desktop/Polito/2024%20-%20S1/Computational%20intelligence/CI_code/halloween.ipynb#X12sZmlsZQ%3D%3D?line=25'>26</a>\u001b[0m     \u001b[39mif\u001b[39;00m \u001b[39mnot\u001b[39;00m to_prune:\n",
      "\u001b[1;32mc:\\Users\\drluc\\OneDrive\\Desktop\\Polito\\2024 - S1\\Computational intelligence\\CI_code\\halloween.ipynb Cell 10\u001b[0m line \u001b[0;36m2\n\u001b[0;32m     <a href='vscode-notebook-cell:/c%3A/Users/drluc/OneDrive/Desktop/Polito/2024%20-%20S1/Computational%20intelligence/CI_code/halloween.ipynb#X12sZmlsZQ%3D%3D?line=20'>21</a>\u001b[0m     \u001b[39mreturn\u001b[39;00m new_state\n\u001b[0;32m     <a href='vscode-notebook-cell:/c%3A/Users/drluc/OneDrive/Desktop/Polito/2024%20-%20S1/Computational%20intelligence/CI_code/halloween.ipynb#X12sZmlsZQ%3D%3D?line=22'>23</a>\u001b[0m \u001b[39m# eliminate redundant sets until there are no more\u001b[39;00m\n\u001b[1;32m---> <a href='vscode-notebook-cell:/c%3A/Users/drluc/OneDrive/Desktop/Polito/2024%20-%20S1/Computational%20intelligence/CI_code/halloween.ipynb#X12sZmlsZQ%3D%3D?line=23'>24</a>\u001b[0m \u001b[39mwhile\u001b[39;00m \u001b[39m1\u001b[39m:\n\u001b[0;32m     <a href='vscode-notebook-cell:/c%3A/Users/drluc/OneDrive/Desktop/Polito/2024%20-%20S1/Computational%20intelligence/CI_code/halloween.ipynb#X12sZmlsZQ%3D%3D?line=24'>25</a>\u001b[0m     to_prune \u001b[39m=\u001b[39m prune(new_state)\n\u001b[0;32m     <a href='vscode-notebook-cell:/c%3A/Users/drluc/OneDrive/Desktop/Polito/2024%20-%20S1/Computational%20intelligence/CI_code/halloween.ipynb#X12sZmlsZQ%3D%3D?line=25'>26</a>\u001b[0m     \u001b[39mif\u001b[39;00m \u001b[39mnot\u001b[39;00m to_prune:\n",
      "File \u001b[1;32m_pydevd_bundle/pydevd_cython.pyx:1457\u001b[0m, in \u001b[0;36m_pydevd_bundle.pydevd_cython.SafeCallWrapper.__call__\u001b[1;34m()\u001b[0m\n",
      "File \u001b[1;32m_pydevd_bundle/pydevd_cython.pyx:701\u001b[0m, in \u001b[0;36m_pydevd_bundle.pydevd_cython.PyDBFrame.trace_dispatch\u001b[1;34m()\u001b[0m\n",
      "File \u001b[1;32m_pydevd_bundle/pydevd_cython.pyx:1152\u001b[0m, in \u001b[0;36m_pydevd_bundle.pydevd_cython.PyDBFrame.trace_dispatch\u001b[1;34m()\u001b[0m\n",
      "File \u001b[1;32m_pydevd_bundle/pydevd_cython.pyx:1135\u001b[0m, in \u001b[0;36m_pydevd_bundle.pydevd_cython.PyDBFrame.trace_dispatch\u001b[1;34m()\u001b[0m\n",
      "File \u001b[1;32m_pydevd_bundle/pydevd_cython.pyx:312\u001b[0m, in \u001b[0;36m_pydevd_bundle.pydevd_cython.PyDBFrame.do_wait_suspend\u001b[1;34m()\u001b[0m\n",
      "File \u001b[1;32mc:\\Users\\drluc\\OneDrive\\Desktop\\Polito\\2024 - S1\\Computational intelligence\\CI_code\\.venv\\lib\\site-packages\\debugpy\\_vendored\\pydevd\\pydevd.py:2070\u001b[0m, in \u001b[0;36mPyDB.do_wait_suspend\u001b[1;34m(self, thread, frame, event, arg, exception_type)\u001b[0m\n\u001b[0;32m   2067\u001b[0m             from_this_thread\u001b[39m.\u001b[39mappend(frame_custom_thread_id)\n\u001b[0;32m   2069\u001b[0m     \u001b[39mwith\u001b[39;00m \u001b[39mself\u001b[39m\u001b[39m.\u001b[39m_threads_suspended_single_notification\u001b[39m.\u001b[39mnotify_thread_suspended(thread_id, thread, stop_reason):\n\u001b[1;32m-> 2070\u001b[0m         keep_suspended \u001b[39m=\u001b[39m \u001b[39mself\u001b[39;49m\u001b[39m.\u001b[39;49m_do_wait_suspend(thread, frame, event, arg, suspend_type, from_this_thread, frames_tracker)\n\u001b[0;32m   2072\u001b[0m frames_list \u001b[39m=\u001b[39m \u001b[39mNone\u001b[39;00m\n\u001b[0;32m   2074\u001b[0m \u001b[39mif\u001b[39;00m keep_suspended:\n\u001b[0;32m   2075\u001b[0m     \u001b[39m# This means that we should pause again after a set next statement.\u001b[39;00m\n",
      "File \u001b[1;32mc:\\Users\\drluc\\OneDrive\\Desktop\\Polito\\2024 - S1\\Computational intelligence\\CI_code\\.venv\\lib\\site-packages\\debugpy\\_vendored\\pydevd\\pydevd.py:2106\u001b[0m, in \u001b[0;36mPyDB._do_wait_suspend\u001b[1;34m(self, thread, frame, event, arg, suspend_type, from_this_thread, frames_tracker)\u001b[0m\n\u001b[0;32m   2103\u001b[0m         \u001b[39mself\u001b[39m\u001b[39m.\u001b[39m_call_input_hook()\n\u001b[0;32m   2105\u001b[0m     \u001b[39mself\u001b[39m\u001b[39m.\u001b[39mprocess_internal_commands()\n\u001b[1;32m-> 2106\u001b[0m     time\u001b[39m.\u001b[39;49msleep(\u001b[39m0.01\u001b[39;49m)\n\u001b[0;32m   2108\u001b[0m \u001b[39mself\u001b[39m\u001b[39m.\u001b[39mcancel_async_evaluation(get_current_thread_id(thread), \u001b[39mstr\u001b[39m(\u001b[39mid\u001b[39m(frame)))\n\u001b[0;32m   2110\u001b[0m \u001b[39m# process any stepping instructions\u001b[39;00m\n",
      "\u001b[1;31mKeyboardInterrupt\u001b[0m: "
     ]
    }
   ],
   "source": [
    "print('My function')\n",
    "current_state = [False for _ in range(N_POINTS)]\n",
    "print(f'fitness: {fitness(current_state)[0]}\\t sets taken: {-fitness(current_state)[1]}\\t steps: 0')\n",
    "\n",
    "fitness_calls = 0\n",
    "updates = 0\n",
    "\n",
    "for step in range(10_000):\n",
    "    #if goal_check(current_state):\n",
    "    #    break\n",
    "    new_state = tweak_1(current_state)\n",
    "    fitness_calls += 1\n",
    "    if fitness(new_state) > fitness(current_state):\n",
    "        updates += 1\n",
    "        current_state = new_state\n",
    "        print(f'fitness: {fitness(current_state)[0]}\\t sets taken: {-fitness(current_state)[1]}\\t steps: {step + 1}')\n",
    "\n",
    "print()\n",
    "print(f'Fitness calls: {fitness_calls}')\n",
    "print(f'Updates: {updates}')"
   ]
  }
 ],
 "metadata": {
  "kernelspec": {
   "display_name": ".venv",
   "language": "python",
   "name": "python3"
  },
  "language_info": {
   "codemirror_mode": {
    "name": "ipython",
    "version": 3
   },
   "file_extension": ".py",
   "mimetype": "text/x-python",
   "name": "python",
   "nbconvert_exporter": "python",
   "pygments_lexer": "ipython3",
   "version": "3.10.7"
  }
 },
 "nbformat": 4,
 "nbformat_minor": 2
}
